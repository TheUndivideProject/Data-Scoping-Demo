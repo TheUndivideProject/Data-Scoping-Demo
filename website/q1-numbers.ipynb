{
  "cells": [
    {
      "cell_type": "raw",
      "metadata": {},
      "source": [
        "---\n",
        "title: \"2024 Q1 Numeric Data Report\"\n",
        "output:\n",
        "  quarto::html_document:\n",
        "    toc: true\n",
        "\n",
        "format:\n",
        "  html:\n",
        "    code-fold: true\n",
        "---"
      ],
      "id": "057c797a"
    },
    {
      "cell_type": "markdown",
      "metadata": {},
      "source": [
        "## 1. Introduction\n",
        "\n",
        "This document aims to perform an initial exploration of the features and values within the Securities and Exchange Commission's Financial Statement Numbers to pinpoint variables for assessing philanthropic giving in the environmental and social justice sectors.\n",
        "\n",
        "The Financial Statement Numbers of the SEC provide numeric data from the face financials of all financial statements. You can find more information on sec.gov (https://www.sec.gov/dera/data/financial-statement).\n",
        "\n",
        "## 2. First Glance\n",
        "\n",
        "### 2.1. General Summary\n",
        "\n",
        "------------------------------------------------------------------------\n",
        "\n",
        "::: callout-note\n",
        "A '0' in the 'QUARTERS REPRESENTED' column indicates it is a point-in-time value.\n",
        ":::\n"
      ],
      "id": "87a3545e"
    },
    {
      "cell_type": "code",
      "metadata": {},
      "source": [
        "# libraries for data manipulation.\n",
        "import pandas as pd\n",
        "import numpy as np\n",
        "\n",
        "# libraries for data visualisation\n",
        "import matplotlib.pyplot as plt\n",
        "import seaborn as sns\n",
        "import plotly.express as px\n",
        "import plotly.io as pio\n",
        "\n",
        "# libraries for quarto rendering\n",
        "from IPython.display import Markdown,display\n",
        "from tabulate import tabulate\n",
        "import plotly.io as pio\n",
        "\n",
        "# remove warnings\n",
        "import warnings\n",
        "warnings.filterwarnings(\"ignore\", category=UserWarning)\n",
        "\n",
        "# read in data from 'num.csv' in the 'data' folder\n",
        "num_data = pd.read_csv('../data/num.csv')\n",
        "\n",
        "# print data dimensions\n",
        "shape_caption = \"Data Dimensions:\"\n",
        "shape_df = pd.DataFrame({\n",
        "        'Dimension': ['Rows', 'Columns'],\n",
        "        'Count': [num_data.shape[0], num_data.shape[1]]\n",
        "    })\n",
        "shape_df['Count'] = shape_df['Count'].apply(lambda x: f\"{x:,}\")\n",
        "shape_markdown = shape_caption + \"\\n\\n\" + shape_df.to_markdown(index=False)\n",
        "display(Markdown(shape_markdown))\n",
        "\n",
        "# print a sample of the data\n",
        "first_five_rows_caption = \"First Five Rows of Data:\"\n",
        "first_five_rows_markdown = first_five_rows_caption + \"\\n\\n\" + num_data.head().to_markdown(index=False)\n",
        "display(Markdown(first_five_rows_markdown))\n",
        "\n",
        "# print metadata\n",
        "metadata_caption = \"Metadata:\"\n",
        "column_metadata = []\n",
        "\n",
        "for col in num_data.columns:\n",
        "    # gather metadata for each col\n",
        "    col_metadata = {\n",
        "        'Column Name': col,\n",
        "        'Data Type': str(num_data[col].dtype),\n",
        "        'Unique Values': num_data[col].nunique(),\n",
        "        'Missing Values': num_data[col].isnull().sum()\n",
        "    }\n",
        "    # append metadata to list\n",
        "    column_metadata.append(col_metadata)\n",
        "\n",
        "# convert list to pd df and then markdown table\n",
        "metadata_df = pd.DataFrame(column_metadata)\n",
        "metadata_df['Unique Values'] = metadata_df['Unique Values'].apply(lambda x: f\"{x:,}\")\n",
        "metadata_df['Missing Values'] = metadata_df['Missing Values'].apply(lambda x: f\"{x:,}\")\n",
        "metadata_markdown = metadata_caption + \"\\n\\n\" + metadata_df.to_markdown(index=False)\n",
        "display(Markdown(metadata_markdown))"
      ],
      "id": "9e798bca",
      "execution_count": null,
      "outputs": []
    },
    {
      "cell_type": "markdown",
      "metadata": {},
      "source": [
        "### 2.2. Statistical Summary\n",
        "\n",
        "------------------------------------------------------------------------\n"
      ],
      "id": "141a85d6"
    },
    {
      "cell_type": "code",
      "metadata": {},
      "source": [
        "pd.options.display.float_format = '{:,.0f}'.format\n",
        "simple_md = num_data.describe()\n",
        "display(simple_md)"
      ],
      "id": "480fcf6f",
      "execution_count": null,
      "outputs": []
    },
    {
      "cell_type": "markdown",
      "metadata": {},
      "source": [
        "## 3. Data Preparation\n",
        "\n",
        "In this section, we outline the initial steps for preparing SEC Financial Statement Numbers for analysis. Our objectives include ensuring consistent column naming, handling missing values, and formatting data for analysis. Click the dropdown for code details.\n"
      ],
      "id": "25c00bf0"
    },
    {
      "cell_type": "code",
      "metadata": {},
      "source": [
        "# convert columns to appropriate data types\n",
        "date_cols = ['END DATE']\n",
        "for col in date_cols:\n",
        "    num_data[col] = num_data[col].astype(str).str.replace('\\.0$', '', regex=True)\n",
        "    num_data[col] = pd.to_datetime(num_data[col], format='%Y%m%d', errors='coerce').dt.date\n",
        "\n",
        "num_data['VALUE'] = num_data['VALUE'].round().astype('Int64')\n",
        "\n",
        "# replace missing values with nan\n",
        "num_data = num_data.fillna(np.nan)\n",
        "\n",
        "# show cleaned data\n",
        "head_markdown = num_data.head().to_markdown(index=False)\n",
        "display(Markdown(head_markdown))"
      ],
      "id": "1dc04860",
      "execution_count": null,
      "outputs": []
    },
    {
      "cell_type": "markdown",
      "metadata": {},
      "source": [
        "## 4. Analysis\n",
        "\n",
        "Objective: Determine if the Numeric Data Set can (1) be used to conduct a comprehensive analysis of existing philanthropic giving in environmental and social justice and (2) be used to assess the level of transparency and accountability in current giving practices.\n",
        "\n",
        "### 4.1. Identification of Corporate Donors\n",
        "\n",
        "------------------------------------------------------------------------\n",
        "\n",
        "The Numeric Data Set contains accession numbers, unique 20-digit identifiers assigned to issuers in the Q1 Submissions Data Set. This allows comparison of numeric data from each issuer with geographic, temporal, and other data in the Submissions Data Set.\n",
        "\n",
        "**Sample of Accession Numbers:**\n"
      ],
      "id": "7856b6a7"
    },
    {
      "cell_type": "code",
      "metadata": {},
      "source": [
        "num_data[['ACCESSION NUMBER']].head()"
      ],
      "id": "7df5a66b",
      "execution_count": null,
      "outputs": []
    },
    {
      "cell_type": "markdown",
      "metadata": {},
      "source": [
        "### 4.2. Financial Information\n",
        "\n",
        "------------------------------------------------------------------------\n",
        "\n",
        "Each submission's 'FINANCIAL ELEMENT' column specifies either a standard or custom tag. The standard tags are sourced from taxonomies on <https://www.sec.gov/edgar/information-for-filers/standard-taxonomies> and can be searched under [US GAAP (2023)](https://xbrlview.fasb.org).\n",
        "\n",
        "#### **4.2.1. Expenses**\n",
        "\n",
        "-   **Accounting Fees:** provides insights into the organization's financial oversight and auditing practices. High fees can be associated with rigorous procedures.\n",
        "\n",
        "\n",
        "```{=html}\n",
        "<!-- -->\n",
        "```\n",
        "\n",
        "-   **Deferred Compensation Liability, Deferred Compensation Equity, Deferred Compensation Plan Assets:** provide insights into the organization's budget allocation for leadership compensation.\n",
        "\n",
        "-   **Interest Expense:** provides insights into the organization's debt levels, which can inform assessments of financial health.\n",
        "\n",
        "-   **Legal Fees:** provides insights into the organization's legal compliance and potential litigation challenges. High fees can be associated with either.\n",
        "\n",
        "**Operational Expenses Stats:**\n"
      ],
      "id": "7959ca1c"
    },
    {
      "cell_type": "code",
      "metadata": {},
      "source": [
        "import re\n",
        "\n",
        "expense_ids = ['AccountingFees', 'InterestExpense', 'LegalFees']\n",
        "expense_stats = pd.DataFrame()\n",
        "\n",
        "# add statistics for each identifier to combined DataFrame\n",
        "for id in expense_ids:\n",
        "    filtered_expense_ids = num_data[num_data['FINANCIAL ELEMENT'] == id]\n",
        "    stats = filtered_expense_ids['VALUE'].describe().rename(re.sub(r'(?<=[a-z])(?=[A-Z])', ' ', id))\n",
        "    expense_stats = pd.concat([expense_stats, stats], axis=1)\n",
        "\n",
        "# show statistics\n",
        "display(expense_stats)"
      ],
      "id": "f6c4fe54",
      "execution_count": null,
      "outputs": []
    },
    {
      "cell_type": "markdown",
      "metadata": {},
      "source": [
        "**Governance & Compliance Expenses Stats:**\n"
      ],
      "id": "0da74ad9"
    },
    {
      "cell_type": "code",
      "metadata": {},
      "source": [
        "compensation_ids = ['DeferredCompensationLiabilityCurrent', 'DeferredCompensationEquity', 'DeferredCompensationPlanAssets']\n",
        "compensation_stats = pd.DataFrame()\n",
        "\n",
        "# add statistics for each identifier to combined DataFrame\n",
        "for id in compensation_ids:\n",
        "    filtered_compensation_ids = num_data[num_data['FINANCIAL ELEMENT'] == id]\n",
        "    stats = filtered_compensation_ids['VALUE'].describe().rename(re.sub(r'(?<=[a-z])(?=[A-Z])', ' ', id))\n",
        "    compensation_stats = pd.concat([compensation_stats, stats], axis=1)\n",
        "\n",
        "# show statistics\n",
        "display(compensation_stats)"
      ],
      "id": "e29d7a71",
      "execution_count": null,
      "outputs": []
    },
    {
      "cell_type": "markdown",
      "metadata": {},
      "source": [
        "#### **4.2.2. Assets and Liabilities**\n",
        "\n",
        "-   Current Assets\n",
        "\n",
        "-   Assets Held for Sale\n",
        "\n",
        "-   Trading Securities\n",
        "\n",
        "-   Current Liabilities\n",
        "\n",
        "-   Short Term Investments\n",
        "\n",
        "-   Long Term Investments\n",
        "\n",
        "**Assets Stats:**\n"
      ],
      "id": "50c31b4f"
    },
    {
      "cell_type": "code",
      "metadata": {},
      "source": [
        "assets_ids = ['AssetsCurrent', 'AssetsHeldForSaleNotPartOfDisposalGroupCurrent', 'TradingSecurities']\n",
        "assets_stats = pd.DataFrame()\n",
        "\n",
        "# add statistics for each identifier to combined DataFrame\n",
        "for id in assets_ids:\n",
        "    filtered_assets_ids = num_data[num_data['FINANCIAL ELEMENT'] == id]\n",
        "    stats = filtered_assets_ids['VALUE'].describe().rename(re.sub(r'(?<=[a-z])(?=[A-Z])', ' ', id))\n",
        "    assets_stats = pd.concat([assets_stats, stats], axis=1)\n",
        "\n",
        "# show statistics\n",
        "display(assets_stats)"
      ],
      "id": "aaf1fcf5",
      "execution_count": null,
      "outputs": []
    },
    {
      "cell_type": "markdown",
      "metadata": {},
      "source": [
        "**Liabilities Stats:**\n"
      ],
      "id": "7f64e455"
    },
    {
      "cell_type": "code",
      "metadata": {},
      "source": [
        "liabilities_ids = ['LiabilitiesCurrent']\n",
        "liabilities_stats = pd.DataFrame()\n",
        "\n",
        "# add statistics for each identifier to combined DataFrame\n",
        "for id in liabilities_ids:\n",
        "    filtered_liabilities_ids = num_data[num_data['FINANCIAL ELEMENT'] == id]\n",
        "    stats = filtered_liabilities_ids['VALUE'].describe().rename(re.sub(r'(?<=[a-z])(?=[A-Z])', ' ', id))\n",
        "    liabilities_stats = pd.concat([liabilities_stats, stats], axis=1)\n",
        "\n",
        "# show statistics\n",
        "display(liabilities_stats)"
      ],
      "id": "ad8b12b0",
      "execution_count": null,
      "outputs": []
    },
    {
      "cell_type": "markdown",
      "metadata": {},
      "source": [
        "**Investments Stats:**\n"
      ],
      "id": "15b8f62e"
    },
    {
      "cell_type": "code",
      "metadata": {},
      "source": [
        "investments_ids = ['ShortTermInvestments', 'LongTermInvestments']\n",
        "investments_stats = pd.DataFrame()\n",
        "\n",
        "# add statistics for each identifier to combined DataFrame\n",
        "for id in investments_ids:\n",
        "    filtered_investments_ids = num_data[num_data['FINANCIAL ELEMENT'] == id]\n",
        "    stats = filtered_investments_ids['VALUE'].describe().rename(re.sub(r'(?<=[a-z])(?=[A-Z])', ' ', id))\n",
        "    investments_stats = pd.concat([investments_stats, stats], axis=1)\n",
        "\n",
        "\n",
        "# show statistics\n",
        "display(investments_stats)"
      ],
      "id": "c50a8722",
      "execution_count": null,
      "outputs": []
    },
    {
      "cell_type": "markdown",
      "metadata": {},
      "source": [
        "#### **4.2.3. Revenue**\n",
        "\n",
        "-   Revenues\n",
        "\n",
        "-   Gross Investment Income\n",
        "\n",
        "-   Lease income\n",
        "\n",
        "-   Interest Income on Securities\n",
        "\n",
        "-   Proceeds from Grantors\n",
        "\n",
        "-   Proceeds from Customers\n",
        "\n",
        "-   Proceeds from Other Deposits\n",
        "\n",
        "**Operating Revenue Stats:**\n"
      ],
      "id": "f1d3d1a3"
    },
    {
      "cell_type": "code",
      "metadata": {},
      "source": [
        "operating_revenue_ids = ['Revenues', 'GrossInvestmentIncomeOperating', 'LeaseIncome', 'InterestIncomeSecuritiesTaxable']\n",
        "operating_revenue_stats = pd.DataFrame()\n",
        "\n",
        "# add statistics for each identifier to combined DataFrame\n",
        "for id in operating_revenue_ids:\n",
        "    filtered_operating_revenue_ids = num_data[num_data['FINANCIAL ELEMENT'] == id]\n",
        "    stats = filtered_operating_revenue_ids['VALUE'].describe().rename(re.sub(r'(?<=[a-z])(?=[A-Z])', ' ', id))\n",
        "    operating_revenue_stats = pd.concat([operating_revenue_stats, stats], axis=1)\n",
        "\n",
        "\n",
        "# show statistics\n",
        "display(operating_revenue_stats)"
      ],
      "id": "2b9b619b",
      "execution_count": null,
      "outputs": []
    },
    {
      "cell_type": "markdown",
      "metadata": {},
      "source": [
        "**Other Revenue Stats:**\n"
      ],
      "id": "738ebafe"
    },
    {
      "cell_type": "code",
      "metadata": {},
      "source": [
        "other_revenue_ids = ['ProceedsFromGrantors', 'ProceedsFromCustomers', 'ProceedsFromOtherDeposits']\n",
        "other_revenue_stats = pd.DataFrame()\n",
        "\n",
        "# add statistics for each identifier to combined DataFrame\n",
        "for id in other_revenue_ids:\n",
        "    filtered_other_revenue_ids = num_data[num_data['FINANCIAL ELEMENT'] == id]\n",
        "    stats = filtered_other_revenue_ids['VALUE'].describe().rename(re.sub(r'(?<=[a-z])(?=[A-Z])', ' ', id))\n",
        "    other_revenue_stats = pd.concat([other_revenue_stats, stats], axis=1)\n",
        "\n",
        "\n",
        "# show statistics\n",
        "display(other_revenue_stats)"
      ],
      "id": "df6c7442",
      "execution_count": null,
      "outputs": []
    },
    {
      "cell_type": "markdown",
      "metadata": {},
      "source": [
        "#### **4.2.4. Philanthropic Giving**\n",
        "\n",
        "-   Charitable Contributions, Charitable Contributions Expense\n",
        "\n",
        "-   Effective Income Tax Rate Reconciliation\n",
        "\n",
        "**Philanthropic Giving Stats:**\n"
      ],
      "id": "6a845d7e"
    },
    {
      "cell_type": "code",
      "metadata": {},
      "source": [
        "philanthropic_giving_ids = ['CharitableContributions', 'CharitableContributionsExpense', 'EffectiveIncomeTaxRateReconciliationNondeductibleExpenseCharitableContributions']\n",
        "philanthropic_giving_stats = pd.DataFrame()\n",
        "\n",
        "# add statistics for each identifier to combined DataFrame\n",
        "for id in philanthropic_giving_ids:\n",
        "    filtered_philanthropic_giving_ids = num_data[num_data['FINANCIAL ELEMENT'] == id]\n",
        "    stats = filtered_philanthropic_giving_ids['VALUE'].describe().rename(re.sub(r'(?<=[a-z])(?=[A-Z])', ' ', id))\n",
        "    philanthropic_giving_stats = pd.concat([philanthropic_giving_stats, stats], axis=1)\n",
        "\n",
        "\n",
        "# show statistics\n",
        "display(philanthropic_giving_stats)"
      ],
      "id": "4c02f2a7",
      "execution_count": null,
      "outputs": []
    }
  ],
  "metadata": {
    "kernelspec": {
      "display_name": "Python 3",
      "language": "python",
      "name": "python3"
    }
  },
  "nbformat": 4,
  "nbformat_minor": 5
}